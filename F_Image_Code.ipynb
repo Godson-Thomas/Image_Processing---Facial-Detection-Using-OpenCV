{
 "cells": [
  {
   "cell_type": "code",
   "execution_count": null,
   "metadata": {},
   "outputs": [],
   "source": [
    "import cv2"
   ]
  },
  {
   "cell_type": "code",
   "execution_count": null,
   "metadata": {},
   "outputs": [],
   "source": [
    "face_cascade=cv2.CascadeClassifier(\"/CV-ImageF/_.xml Files/haarcascade_frontalface_default.xml\")\n",
    "img=cv2.imread(\"/Images/Tesla.jpg\")\n",
    "\n",
    "\n"
   ]
  },
  {
   "cell_type": "code",
   "execution_count": null,
   "metadata": {},
   "outputs": [],
   "source": [
    "r=500/img.shape[1]                            # RESIZING THE LOADED IMAGE\n",
    "print(r)\n",
    "dim=(500,int(img.shape[0]*r))\n"
   ]
  },
  {
   "cell_type": "code",
   "execution_count": null,
   "metadata": {},
   "outputs": [],
   "source": [
    "resized_img=cv2.resize(img,dim,interpolation=cv2.INTER_AREA)  #STORING AND DISPLAYING THE RESIZED IMAGE\n",
    "cv2.imshow(\"RESIZED ONE\",resized_img)\n",
    "cv2.waitKey(0)\n",
    "\n",
    "cv2.destroyAllWindows()\n",
    "                                     "
   ]
  },
  {
   "cell_type": "code",
   "execution_count": null,
   "metadata": {},
   "outputs": [],
   "source": [
    "gray_img=cv2.cvtColor(resized_img,cv2.COLOR_BGR2GRAY)"
   ]
  },
  {
   "cell_type": "code",
   "execution_count": null,
   "metadata": {},
   "outputs": [],
   "source": [
    "faces=face_cascade.detectMultiScale(gray_img,scaleFactor=1.05 ,minNeighbors=6)\n",
    "print(faces)\n",
    "\n"
   ]
  },
  {
   "cell_type": "code",
   "execution_count": null,
   "metadata": {},
   "outputs": [],
   "source": [
    "for x,y,w,h in faces:\n",
    "    \n",
    "    final_img=cv2.rectangle(gray_img,(x,y),(x+w,y+h),(255,0,0),3)\n",
    "\n",
    "cv2.imshow(\"DETECTED FRAME\",final_img)\n",
    "\n",
    "cv2.waitKey(0)\n",
    "\n",
    "cv2.destroyAllWindows()"
   ]
  },
  {
   "cell_type": "code",
   "execution_count": null,
   "metadata": {},
   "outputs": [],
   "source": []
  },
  {
   "cell_type": "code",
   "execution_count": null,
   "metadata": {},
   "outputs": [],
   "source": []
  },
  {
   "cell_type": "code",
   "execution_count": null,
   "metadata": {},
   "outputs": [],
   "source": [
    "for x,y,w,h in faces:\n",
    "    \n",
    "    final_img=cv2.rectangle(resized_img,(x,y),(x+w,y+h),(255,0,0),3)\n",
    "\n",
    "cv2.imshow(\"DETECTED FRAME\",final_img)\n",
    "                                                                    # Coloured Image\n",
    "cv2.waitKey(0)\n",
    "\n",
    "cv2.destroyAllWindows()                    "
   ]
  },
  {
   "cell_type": "code",
   "execution_count": null,
   "metadata": {},
   "outputs": [],
   "source": []
  }
 ],
 "metadata": {
  "kernelspec": {
   "display_name": "DARKTRACE",
   "language": "python",
   "name": "darktrace"
  },
  "language_info": {
   "codemirror_mode": {
    "name": "ipython",
    "version": 3
   },
   "file_extension": ".py",
   "mimetype": "text/x-python",
   "name": "python",
   "nbconvert_exporter": "python",
   "pygments_lexer": "ipython3",
   "version": "3.6.9"
  }
 },
 "nbformat": 4,
 "nbformat_minor": 2
}
